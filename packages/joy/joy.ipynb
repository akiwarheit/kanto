{
 "cells": [
  {
   "cell_type": "markdown",
   "metadata": {},
   "source": [
    "# Exploratory data analysis"
   ]
  },
  {
   "cell_type": "code",
   "execution_count": 61,
   "metadata": {},
   "outputs": [
    {
     "data": {
      "text/html": "<div>\n<style scoped>\n    .dataframe tbody tr th:only-of-type {\n        vertical-align: middle;\n    }\n\n    .dataframe tbody tr th {\n        vertical-align: top;\n    }\n\n    .dataframe thead th {\n        text-align: right;\n    }\n</style>\n<table border=\"1\" class=\"dataframe\">\n  <thead>\n    <tr style=\"text-align: right;\">\n      <th></th>\n      <th>event</th>\n      <th>start</th>\n      <th>end</th>\n      <th>amount</th>\n      <th>notes</th>\n    </tr>\n  </thead>\n  <tbody>\n    <tr>\n      <th>0</th>\n      <td>sleep</td>\n      <td>2021-01-01 00:00:00</td>\n      <td>2021-01-01 04:00:00</td>\n      <td>NaN</td>\n      <td>NaN</td>\n    </tr>\n    <tr>\n      <th>1</th>\n      <td>feed</td>\n      <td>2021-01-01 04:00:00</td>\n      <td>NaN</td>\n      <td>120.0</td>\n      <td>NaN</td>\n    </tr>\n    <tr>\n      <th>2</th>\n      <td>nappy</td>\n      <td>2021-01-01 04:10:00</td>\n      <td>NaN</td>\n      <td>NaN</td>\n      <td>pee,medium</td>\n    </tr>\n    <tr>\n      <th>3</th>\n      <td>sleep</td>\n      <td>2021-01-01 04:30:00</td>\n      <td>2021-01-01 08:10:00</td>\n      <td>NaN</td>\n      <td>NaN</td>\n    </tr>\n    <tr>\n      <th>4</th>\n      <td>sleep</td>\n      <td>2021-01-01 12:30:00</td>\n      <td>2021-01-01 13:10:00</td>\n      <td>NaN</td>\n      <td>NaN</td>\n    </tr>\n    <tr>\n      <th>5</th>\n      <td>sleep</td>\n      <td>2021-01-01 20:30:00</td>\n      <td>2021-01-01 23:59:59</td>\n      <td>NaN</td>\n      <td>NaN</td>\n    </tr>\n    <tr>\n      <th>6</th>\n      <td>sleep</td>\n      <td>2021-01-02 00:00:00</td>\n      <td>2021-01-02 04:00:00</td>\n      <td>NaN</td>\n      <td>NaN</td>\n    </tr>\n    <tr>\n      <th>7</th>\n      <td>feed</td>\n      <td>2021-01-02 04:00:00</td>\n      <td>NaN</td>\n      <td>120.0</td>\n      <td>NaN</td>\n    </tr>\n    <tr>\n      <th>8</th>\n      <td>nappy</td>\n      <td>2021-01-02 04:10:00</td>\n      <td>NaN</td>\n      <td>NaN</td>\n      <td>poo,pee,large</td>\n    </tr>\n    <tr>\n      <th>9</th>\n      <td>sleep</td>\n      <td>2021-01-02 04:30:00</td>\n      <td>2021-01-02 08:10:00</td>\n      <td>NaN</td>\n      <td>NaN</td>\n    </tr>\n    <tr>\n      <th>10</th>\n      <td>sleep</td>\n      <td>2021-01-03 00:00:00</td>\n      <td>2021-01-03 04:00:00</td>\n      <td>NaN</td>\n      <td>NaN</td>\n    </tr>\n    <tr>\n      <th>11</th>\n      <td>feed</td>\n      <td>2021-01-03 04:00:00</td>\n      <td>NaN</td>\n      <td>120.0</td>\n      <td>NaN</td>\n    </tr>\n    <tr>\n      <th>12</th>\n      <td>nappy</td>\n      <td>2021-01-03 04:10:00</td>\n      <td>NaN</td>\n      <td>NaN</td>\n      <td>pee,small</td>\n    </tr>\n    <tr>\n      <th>13</th>\n      <td>sleep</td>\n      <td>2021-01-03 04:30:00</td>\n      <td>2021-01-03 08:10:00</td>\n      <td>NaN</td>\n      <td>NaN</td>\n    </tr>\n  </tbody>\n</table>\n</div>",
      "text/plain": "    event                start                  end  amount          notes\n0   sleep  2021-01-01 00:00:00  2021-01-01 04:00:00     NaN            NaN\n1    feed  2021-01-01 04:00:00                  NaN   120.0            NaN\n2   nappy  2021-01-01 04:10:00                  NaN     NaN     pee,medium\n3   sleep  2021-01-01 04:30:00  2021-01-01 08:10:00     NaN            NaN\n4   sleep  2021-01-01 12:30:00  2021-01-01 13:10:00     NaN            NaN\n5   sleep  2021-01-01 20:30:00  2021-01-01 23:59:59     NaN            NaN\n6   sleep  2021-01-02 00:00:00  2021-01-02 04:00:00     NaN            NaN\n7    feed  2021-01-02 04:00:00                  NaN   120.0            NaN\n8   nappy  2021-01-02 04:10:00                  NaN     NaN  poo,pee,large\n9   sleep  2021-01-02 04:30:00  2021-01-02 08:10:00     NaN            NaN\n10  sleep  2021-01-03 00:00:00  2021-01-03 04:00:00     NaN            NaN\n11   feed  2021-01-03 04:00:00                  NaN   120.0            NaN\n12  nappy  2021-01-03 04:10:00                  NaN     NaN      pee,small\n13  sleep  2021-01-03 04:30:00  2021-01-03 08:10:00     NaN            NaN"
     },
     "execution_count": 61,
     "metadata": {},
     "output_type": "execute_result"
    }
   ],
   "source": [
    "import pandas as pd\n",
    "from datetime import timedelta\n",
    "\n",
    "data = pd.read_json('data.json', convert_dates=True)\n",
    "\n",
    "data"
   ]
  },
  {
   "cell_type": "markdown",
   "metadata": {},
   "source": [
    "# Data clean up - filling end dates, adding more columns (e.g. day)"
   ]
  },
  {
   "cell_type": "code",
   "execution_count": 62,
   "metadata": {},
   "outputs": [
    {
     "data": {
      "text/html": "<div>\n<style scoped>\n    .dataframe tbody tr th:only-of-type {\n        vertical-align: middle;\n    }\n\n    .dataframe tbody tr th {\n        vertical-align: top;\n    }\n\n    .dataframe thead th {\n        text-align: right;\n    }\n</style>\n<table border=\"1\" class=\"dataframe\">\n  <thead>\n    <tr style=\"text-align: right;\">\n      <th></th>\n      <th>event</th>\n      <th>start</th>\n      <th>end</th>\n      <th>amount</th>\n      <th>notes</th>\n      <th>delta_start</th>\n      <th>delta_end</th>\n      <th>day</th>\n    </tr>\n  </thead>\n  <tbody>\n    <tr>\n      <th>0</th>\n      <td>sleep</td>\n      <td>2021-01-01 00:00:00</td>\n      <td>2021-01-01 04:00:00</td>\n      <td>NaN</td>\n      <td>NaN</td>\n      <td>0</td>\n      <td>240</td>\n      <td>2021-01-01</td>\n    </tr>\n    <tr>\n      <th>1</th>\n      <td>feed</td>\n      <td>2021-01-01 04:00:00</td>\n      <td>2021-01-01 04:05:00</td>\n      <td>120.0</td>\n      <td>NaN</td>\n      <td>240</td>\n      <td>5</td>\n      <td>2021-01-01</td>\n    </tr>\n    <tr>\n      <th>2</th>\n      <td>nappy</td>\n      <td>2021-01-01 04:10:00</td>\n      <td>2021-01-01 04:15:00</td>\n      <td>NaN</td>\n      <td>pee,medium</td>\n      <td>250</td>\n      <td>5</td>\n      <td>2021-01-01</td>\n    </tr>\n    <tr>\n      <th>3</th>\n      <td>sleep</td>\n      <td>2021-01-01 04:30:00</td>\n      <td>2021-01-01 08:10:00</td>\n      <td>NaN</td>\n      <td>NaN</td>\n      <td>270</td>\n      <td>220</td>\n      <td>2021-01-01</td>\n    </tr>\n    <tr>\n      <th>4</th>\n      <td>sleep</td>\n      <td>2021-01-01 12:30:00</td>\n      <td>2021-01-01 13:10:00</td>\n      <td>NaN</td>\n      <td>NaN</td>\n      <td>750</td>\n      <td>40</td>\n      <td>2021-01-01</td>\n    </tr>\n    <tr>\n      <th>5</th>\n      <td>sleep</td>\n      <td>2021-01-01 20:30:00</td>\n      <td>2021-01-01 23:59:59</td>\n      <td>NaN</td>\n      <td>NaN</td>\n      <td>1230</td>\n      <td>209</td>\n      <td>2021-01-01</td>\n    </tr>\n    <tr>\n      <th>6</th>\n      <td>sleep</td>\n      <td>2021-01-02 00:00:00</td>\n      <td>2021-01-02 04:00:00</td>\n      <td>NaN</td>\n      <td>NaN</td>\n      <td>0</td>\n      <td>240</td>\n      <td>2021-01-02</td>\n    </tr>\n    <tr>\n      <th>7</th>\n      <td>feed</td>\n      <td>2021-01-02 04:00:00</td>\n      <td>2021-01-02 04:05:00</td>\n      <td>120.0</td>\n      <td>NaN</td>\n      <td>240</td>\n      <td>5</td>\n      <td>2021-01-02</td>\n    </tr>\n    <tr>\n      <th>8</th>\n      <td>nappy</td>\n      <td>2021-01-02 04:10:00</td>\n      <td>2021-01-02 04:15:00</td>\n      <td>NaN</td>\n      <td>poo,pee,large</td>\n      <td>250</td>\n      <td>5</td>\n      <td>2021-01-02</td>\n    </tr>\n    <tr>\n      <th>9</th>\n      <td>sleep</td>\n      <td>2021-01-02 04:30:00</td>\n      <td>2021-01-02 08:10:00</td>\n      <td>NaN</td>\n      <td>NaN</td>\n      <td>270</td>\n      <td>220</td>\n      <td>2021-01-02</td>\n    </tr>\n    <tr>\n      <th>10</th>\n      <td>sleep</td>\n      <td>2021-01-03 00:00:00</td>\n      <td>2021-01-03 04:00:00</td>\n      <td>NaN</td>\n      <td>NaN</td>\n      <td>0</td>\n      <td>240</td>\n      <td>2021-01-03</td>\n    </tr>\n    <tr>\n      <th>11</th>\n      <td>feed</td>\n      <td>2021-01-03 04:00:00</td>\n      <td>2021-01-03 04:05:00</td>\n      <td>120.0</td>\n      <td>NaN</td>\n      <td>240</td>\n      <td>5</td>\n      <td>2021-01-03</td>\n    </tr>\n    <tr>\n      <th>12</th>\n      <td>nappy</td>\n      <td>2021-01-03 04:10:00</td>\n      <td>2021-01-03 04:15:00</td>\n      <td>NaN</td>\n      <td>pee,small</td>\n      <td>250</td>\n      <td>5</td>\n      <td>2021-01-03</td>\n    </tr>\n    <tr>\n      <th>13</th>\n      <td>sleep</td>\n      <td>2021-01-03 04:30:00</td>\n      <td>2021-01-03 08:10:00</td>\n      <td>NaN</td>\n      <td>NaN</td>\n      <td>270</td>\n      <td>220</td>\n      <td>2021-01-03</td>\n    </tr>\n  </tbody>\n</table>\n</div>",
      "text/plain": "    event               start                 end  amount          notes  \\\n0   sleep 2021-01-01 00:00:00 2021-01-01 04:00:00     NaN            NaN   \n1    feed 2021-01-01 04:00:00 2021-01-01 04:05:00   120.0            NaN   \n2   nappy 2021-01-01 04:10:00 2021-01-01 04:15:00     NaN     pee,medium   \n3   sleep 2021-01-01 04:30:00 2021-01-01 08:10:00     NaN            NaN   \n4   sleep 2021-01-01 12:30:00 2021-01-01 13:10:00     NaN            NaN   \n5   sleep 2021-01-01 20:30:00 2021-01-01 23:59:59     NaN            NaN   \n6   sleep 2021-01-02 00:00:00 2021-01-02 04:00:00     NaN            NaN   \n7    feed 2021-01-02 04:00:00 2021-01-02 04:05:00   120.0            NaN   \n8   nappy 2021-01-02 04:10:00 2021-01-02 04:15:00     NaN  poo,pee,large   \n9   sleep 2021-01-02 04:30:00 2021-01-02 08:10:00     NaN            NaN   \n10  sleep 2021-01-03 00:00:00 2021-01-03 04:00:00     NaN            NaN   \n11   feed 2021-01-03 04:00:00 2021-01-03 04:05:00   120.0            NaN   \n12  nappy 2021-01-03 04:10:00 2021-01-03 04:15:00     NaN      pee,small   \n13  sleep 2021-01-03 04:30:00 2021-01-03 08:10:00     NaN            NaN   \n\n    delta_start  delta_end        day  \n0             0        240 2021-01-01  \n1           240          5 2021-01-01  \n2           250          5 2021-01-01  \n3           270        220 2021-01-01  \n4           750         40 2021-01-01  \n5          1230        209 2021-01-01  \n6             0        240 2021-01-02  \n7           240          5 2021-01-02  \n8           250          5 2021-01-02  \n9           270        220 2021-01-02  \n10            0        240 2021-01-03  \n11          240          5 2021-01-03  \n12          250          5 2021-01-03  \n13          270        220 2021-01-03  "
     },
     "execution_count": 62,
     "metadata": {},
     "output_type": "execute_result"
    }
   ],
   "source": [
    "data['start'] = pd.to_datetime(data.start, format='%Y-%m-%d %H:%M:%S')\n",
    "data['end'] = data.end.fillna(data.start + timedelta(minutes=5))\n",
    "data['end'] = pd.to_datetime(data.end, format='%Y-%m-%d %H:%M:%S')\n",
    "\n",
    "# We use these two values to plot to our broken horizontal bar graph - we use minutes to normalise\n",
    "data['delta_start'] = data.start.dt.minute + (data.start.dt.hour * 60)\n",
    "data['delta_end'] = data.end.dt.minute + (data.end.dt.hour * 60) - data.delta_start\n",
    "\n",
    "\n",
    "data['day'] = data.start.dt.floor('d')\n",
    "data\n"
   ]
  },
  {
   "cell_type": "markdown",
   "metadata": {},
   "source": [
    "# Visualisation"
   ]
  },
  {
   "cell_type": "code",
   "execution_count": 63,
   "metadata": {},
   "outputs": [
    {
     "data": {
      "image/png": "[encoded data removed]",
      "text/plain": "<Figure size 1728x72 with 1 Axes>"
     },
     "metadata": {
      "needs_background": "light"
     },
     "output_type": "display_data"
    }
   ],
   "source": [
    "import matplotlib.pyplot as plt\n",
    "\n",
    "fig, ax = plt.subplots(1, 1, figsize=(24,1))\n",
    "\n",
    "def plot_day(day, ax):\n",
    "  ax.axis('off')\n",
    "  day_to_plot = data[data['day'] == day]\n",
    "\n",
    "  sleep = day_to_plot[day_to_plot['event'] == 'sleep']\n",
    "  feed = day_to_plot[day_to_plot['event'] == 'feed']\n",
    "  nappy = day_to_plot[day_to_plot['event'] == 'nappy']\n",
    "\n",
    "\n",
    "  zl = list(zip(sleep.delta_start, sleep.delta_end))\n",
    "  fl = list(zip(feed.delta_start, feed.delta_end))\n",
    "  nl = list(zip(nappy.delta_start, nappy.delta_end))\n",
    "\n",
    "  ax.set_title(day)\n",
    "  ax.broken_barh(zl, (0, 10), facecolors='tab:blue')\n",
    "  ax.broken_barh(fl, (0, 10), facecolors='tab:green')\n",
    "  ax.broken_barh(nl, (0, 10), facecolors='tab:red')\n",
    "  ax.grid(False)\n",
    "\n",
    "  ax.set_xticklabels([])\n",
    "  ax.set_yticklabels([])\n",
    "\n",
    "  ax.set_xlim(0, 1440)\n",
    "\n",
    "plot_day('2021-01-01', ax)"
   ]
  }
 ],
 "metadata": {
  "kernelspec": {
   "display_name": "Python 3.9.0 64-bit ('3.9.0': pyenv)",
   "name": "python390jvsc74a57bd07931267996f8eee6cf71b441e11e68501ed4315291654d6ab959e3ddbe4d6f06"
  },
  "language_info": {
   "codemirror_mode": {
    "name": "ipython",
    "version": 3
   },
   "file_extension": ".py",
   "mimetype": "text/x-python",
   "name": "python",
   "nbconvert_exporter": "python",
   "pygments_lexer": "ipython3",
   "version": "3.9.0"
  },
  "orig_nbformat": 2
 },
 "nbformat": 4,
 "nbformat_minor": 2
}